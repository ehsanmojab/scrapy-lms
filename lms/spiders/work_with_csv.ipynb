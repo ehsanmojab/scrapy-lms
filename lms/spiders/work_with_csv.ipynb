{
 "cells": [
  {
   "cell_type": "code",
   "execution_count": 1,
   "metadata": {},
   "outputs": [],
   "source": [
    "import csv\n",
    "file=\"cc.csv\"\n",
    "with open(file, 'w')as ccc:\n",
    "    csvwriter = csv.writer(ccc)\n",
    "    csvwriter.writerow(['w','w'])\n",
    "import pandas as pd\n",
    "df = pd.DataFrame({\"سلام\":[1, 2, 3],\n",
    "                    \"b\":[5, 6, 7]})\n",
    "df.to_csv('cd.csv')\n",
    "# csv library is not compatible with persian notation !"
   ]
  },
  {
   "cell_type": "code",
   "execution_count": 3,
   "metadata": {},
   "outputs": [
    {
     "name": "stdout",
     "output_type": "stream",
     "text": [
      "6901\n"
     ]
    }
   ],
   "source": [
    "import pandas as pd\n",
    "def read_usernames(csv_file):\n",
    "\tdf = pd.read_csv(csv_file, usecols=['student id'])\n",
    "\t\n",
    "\tl = df['student id'].tolist()\n",
    "\t\n",
    "\tstid = []\n",
    "\tfor num in l:\n",
    "\t\ttry :\n",
    "\t\t\tstid.append(int(num))\n",
    "\t\texcept:\n",
    "\t\t\tcontinue\n",
    "\t\t\n",
    "\treturn stid\n",
    "\n",
    "s = read_usernames(\"..\\stid.csv\")\n",
    "print(len(s))\n",
    "\n",
    "df = pd.DataFrame({\"student id\":s})\n",
    "df.to_csv(\"stu_id.csv\")\n"
   ]
  }
 ],
 "metadata": {
  "kernelspec": {
   "display_name": "Python 3",
   "language": "python",
   "name": "python3"
  },
  "language_info": {
   "codemirror_mode": {
    "name": "ipython",
    "version": 3
   },
   "file_extension": ".py",
   "mimetype": "text/x-python",
   "name": "python",
   "nbconvert_exporter": "python",
   "pygments_lexer": "ipython3",
   "version": "3.10.10"
  }
 },
 "nbformat": 4,
 "nbformat_minor": 2
}
